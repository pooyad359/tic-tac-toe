{
 "cells": [
  {
   "cell_type": "code",
   "execution_count": 2,
   "metadata": {},
   "outputs": [],
   "source": [
    "import numpy as np\n",
    "import matplotlib.pyplot as plt"
   ]
  },
  {
   "cell_type": "code",
   "execution_count": 7,
   "metadata": {},
   "outputs": [],
   "source": [
    "class InvalidMove(Exception):\n",
    "    pass"
   ]
  },
  {
   "cell_type": "code",
   "execution_count": 8,
   "metadata": {},
   "outputs": [
    {
     "ename": "InvalidMove",
     "evalue": "asdf",
     "output_type": "error",
     "traceback": [
      "\u001b[1;31m---------------------------------------------------------------------------\u001b[0m",
      "\u001b[1;31mInvalidMove\u001b[0m                               Traceback (most recent call last)",
      "\u001b[1;32m<ipython-input-8-e9ab1f449ac4>\u001b[0m in \u001b[0;36m<module>\u001b[1;34m\u001b[0m\n\u001b[1;32m----> 1\u001b[1;33m \u001b[1;32mraise\u001b[0m \u001b[0mInvalidMove\u001b[0m\u001b[1;33m(\u001b[0m\u001b[1;34m'asdf'\u001b[0m\u001b[1;33m)\u001b[0m\u001b[1;33m\u001b[0m\u001b[1;33m\u001b[0m\u001b[0m\n\u001b[0m",
      "\u001b[1;31mInvalidMove\u001b[0m: asdf"
     ]
    }
   ],
   "source": [
    "raise InvalidMove('asdf')"
   ]
  },
  {
   "cell_type": "code",
   "execution_count": 106,
   "metadata": {},
   "outputs": [],
   "source": [
    "class Board:\n",
    "    def __init__(self,size = (10,10),markers = ['X','O']):\n",
    "        self.size = size\n",
    "        self.board = np.zeros(size)\n",
    "        self.active_player = 0\n",
    "        self.set_markers(markers)\n",
    "        self.__moves = {0:[],1:[]}\n",
    "        self.scores = [0,0]\n",
    "        self.strikes = {0:[],1:[]}\n",
    "        \n",
    "        \n",
    "    def next_move(self,move):\n",
    "        if self.board[move]>0:\n",
    "            raise InvalidMove(f'The selected cell [{move}] is already full.')\n",
    "        points = self.__move(self.active_player,move)\n",
    "        self.next_player()\n",
    "        \n",
    "    def __move(self,player,move):\n",
    "        self.board[move] = player+1\n",
    "        self.__moves[player].append(move)\n",
    "        points = self.check_for_points(move,player)\n",
    "        self.scores[player] += points\n",
    "        return points\n",
    "        \n",
    "    def check_for_points(self,move,player):\n",
    "        points = 0\n",
    "        piece = self.__get_piece(move)\n",
    "        potential_points = []\n",
    "        for i in range(4):\n",
    "            #check rows\n",
    "            row = piece[3,i:i+4]\n",
    "            if self.__is_strike(row,player):\n",
    "                cells = {(move[0],move[1]+i-3+c) for c in range(4)}\n",
    "                potential_points.append(cells)\n",
    "            # check columns\n",
    "            row = piece[i:i+4,3]\n",
    "            if self.__is_strike(row,player):\n",
    "                cells = {(move[0]+i-3+c,move[1]) for c in range(4)}\n",
    "                potential_points.append(cells)\n",
    "            # check main diagonal\n",
    "            row = np.array([piece[i+c,i+c] for c in range(4)])\n",
    "            if self.__is_strike(row,player):\n",
    "                cells = {(move[0]+i-3+c,move[1]+i-3+c) for c in range(4)}\n",
    "                potential_points.append(cells)\n",
    "            # check secondary diagonal\n",
    "            row = np.array([piece[i+c,6-i-c] for c in range(4)])\n",
    "            if self.__is_strike(row,player):\n",
    "                cells = {(move[0]+i-3+c,move[1]+6-(i-3+c)) for c in range(4)}\n",
    "                potential_points.append(cells)\n",
    "        \n",
    "        for cells in potential_points:\n",
    "            possible = True\n",
    "            for strike in self.strikes:\n",
    "                if len(cells.intersection(strike))>1:\n",
    "                    possible = False\n",
    "                    break\n",
    "            if possible:\n",
    "                points += 1\n",
    "                self.strikes.append(cells)\n",
    "        return points\n",
    "    \n",
    "    def __is_strike(self,cells,player):\n",
    "        cell_set = set(cells)\n",
    "        if len(cell_set)==1 and player in cell_set:\n",
    "            return True\n",
    "        else:\n",
    "            return False\n",
    "        \n",
    "    def __get_piece(self,move):\n",
    "        size = self.size\n",
    "        temp = np.zeros((size[0]+6,size[1]+6))\n",
    "        temp[3:-3,3:-3] = self.board\n",
    "        i1 = move[0]\n",
    "        i2 = move[0]+7\n",
    "        j1 = move[1]\n",
    "        j2 = move[1]+7\n",
    "        print(temp[i1:i2,j1:j2])\n",
    "        return temp[i1:i2,j1:j2]\n",
    "        \n",
    "    def get_moves(self):\n",
    "        return self.__moves\n",
    "    \n",
    "    def next_player(self):\n",
    "        self.active_player = 1- self.active_player\n",
    "        \n",
    "    def set_markers(self,markers):\n",
    "        if isinstance(markers,list) and len(markers)==2:\n",
    "            self.markers = markers\n",
    "            \n",
    "    def render(self):\n",
    "        print('Player A:',self.scores[0])\n",
    "        print('Player B:',self.scores[1])\n",
    "        view = np.empty(self.size,str)\n",
    "        view[:,:] = ' '\n",
    "        view[self.board==1] = self.markers[0]\n",
    "        view[self.board==2] = self.markers[1]\n",
    "        print(view)\n",
    "        \n",
    "    def test(self):\n",
    "        self.__get_piece((2,2))"
   ]
  },
  {
   "cell_type": "code",
   "execution_count": 110,
   "metadata": {},
   "outputs": [],
   "source": [
    "brd = Board()"
   ]
  },
  {
   "cell_type": "code",
   "execution_count": 111,
   "metadata": {},
   "outputs": [
    {
     "name": "stdout",
     "output_type": "stream",
     "text": [
      "Player A: 0\n",
      "Player B: 0\n",
      "[[' ' ' ' ' ' ' ' ' ' ' ' ' ' ' ' ' ' ' ']\n",
      " [' ' ' ' ' ' ' ' ' ' ' ' ' ' ' ' ' ' ' ']\n",
      " [' ' ' ' ' ' ' ' ' ' ' ' ' ' ' ' ' ' ' ']\n",
      " [' ' ' ' ' ' ' ' ' ' ' ' ' ' ' ' ' ' ' ']\n",
      " [' ' ' ' ' ' ' ' ' ' ' ' ' ' ' ' ' ' ' ']\n",
      " [' ' ' ' ' ' ' ' ' ' ' ' ' ' ' ' ' ' ' ']\n",
      " [' ' ' ' ' ' ' ' ' ' ' ' ' ' ' ' ' ' ' ']\n",
      " [' ' ' ' ' ' ' ' ' ' ' ' ' ' ' ' ' ' ' ']\n",
      " [' ' ' ' ' ' ' ' ' ' ' ' ' ' ' ' ' ' ' ']\n",
      " [' ' ' ' ' ' ' ' ' ' ' ' ' ' ' ' ' ' ' ']]\n"
     ]
    }
   ],
   "source": [
    "brd.render()"
   ]
  },
  {
   "cell_type": "code",
   "execution_count": 112,
   "metadata": {},
   "outputs": [
    {
     "name": "stdout",
     "output_type": "stream",
     "text": [
      "[[0. 0. 0. 0. 0. 0. 0.]\n",
      " [0. 0. 0. 0. 0. 0. 0.]\n",
      " [0. 0. 0. 0. 0. 0. 0.]\n",
      " [0. 0. 0. 1. 0. 0. 0.]\n",
      " [0. 0. 0. 0. 0. 0. 0.]\n",
      " [0. 0. 0. 0. 0. 0. 0.]\n",
      " [0. 0. 0. 0. 0. 0. 0.]]\n",
      "[[0. 0. 0. 0. 0. 0. 0.]\n",
      " [0. 0. 0. 0. 0. 0. 0.]\n",
      " [0. 0. 0. 1. 0. 0. 0.]\n",
      " [0. 0. 0. 2. 0. 0. 0.]\n",
      " [0. 0. 0. 0. 0. 0. 0.]\n",
      " [0. 0. 0. 0. 0. 0. 0.]\n",
      " [0. 0. 0. 0. 0. 0. 0.]]\n",
      "[[0. 0. 0. 0. 0. 0. 0.]\n",
      " [0. 0. 0. 0. 0. 0. 0.]\n",
      " [0. 0. 0. 0. 0. 0. 0.]\n",
      " [0. 0. 1. 1. 0. 0. 0.]\n",
      " [0. 0. 2. 0. 0. 0. 0.]\n",
      " [0. 0. 0. 0. 0. 0. 0.]\n",
      " [0. 0. 0. 0. 0. 0. 0.]]\n",
      "[[0. 0. 0. 0. 0. 0. 0.]\n",
      " [0. 0. 0. 0. 0. 0. 0.]\n",
      " [0. 0. 1. 1. 0. 0. 0.]\n",
      " [0. 0. 2. 2. 0. 0. 0.]\n",
      " [0. 0. 0. 0. 0. 0. 0.]\n",
      " [0. 0. 0. 0. 0. 0. 0.]\n",
      " [0. 0. 0. 0. 0. 0. 0.]]\n",
      "[[0. 0. 0. 0. 0. 0. 0.]\n",
      " [0. 0. 0. 0. 0. 0. 0.]\n",
      " [0. 0. 0. 0. 0. 0. 0.]\n",
      " [0. 1. 1. 1. 0. 0. 0.]\n",
      " [0. 2. 2. 0. 0. 0. 0.]\n",
      " [0. 0. 0. 0. 0. 0. 0.]\n",
      " [0. 0. 0. 0. 0. 0. 0.]]\n",
      "[[0. 0. 0. 0. 0. 0. 0.]\n",
      " [0. 0. 0. 0. 0. 0. 0.]\n",
      " [0. 1. 1. 1. 0. 0. 0.]\n",
      " [0. 2. 2. 2. 0. 0. 0.]\n",
      " [0. 0. 0. 0. 0. 0. 0.]\n",
      " [0. 0. 0. 0. 0. 0. 0.]\n",
      " [0. 0. 0. 0. 0. 0. 0.]]\n",
      "[[0. 0. 0. 0. 0. 0. 0.]\n",
      " [0. 0. 0. 0. 0. 0. 0.]\n",
      " [0. 0. 0. 0. 0. 0. 0.]\n",
      " [1. 1. 1. 1. 0. 0. 0.]\n",
      " [2. 2. 2. 0. 0. 0. 0.]\n",
      " [0. 0. 0. 0. 0. 0. 0.]\n",
      " [0. 0. 0. 0. 0. 0. 0.]]\n",
      "[[0. 0. 0. 0. 0. 0. 0.]\n",
      " [0. 0. 0. 0. 0. 0. 0.]\n",
      " [1. 1. 1. 1. 0. 0. 0.]\n",
      " [2. 2. 2. 2. 0. 0. 0.]\n",
      " [0. 0. 0. 0. 0. 0. 0.]\n",
      " [0. 0. 0. 0. 0. 0. 0.]\n",
      " [0. 0. 0. 0. 0. 0. 0.]]\n",
      "[[0. 0. 0. 0. 0. 0. 0.]\n",
      " [0. 0. 0. 0. 0. 0. 0.]\n",
      " [0. 0. 0. 0. 0. 0. 0.]\n",
      " [1. 1. 1. 1. 0. 0. 0.]\n",
      " [2. 2. 2. 0. 0. 0. 0.]\n",
      " [0. 0. 0. 0. 0. 0. 0.]\n",
      " [0. 0. 0. 0. 0. 0. 0.]]\n",
      "[[0. 0. 0. 0. 0. 0. 0.]\n",
      " [0. 0. 0. 0. 0. 0. 0.]\n",
      " [1. 1. 1. 1. 0. 0. 0.]\n",
      " [2. 2. 2. 2. 0. 0. 0.]\n",
      " [0. 0. 0. 0. 0. 0. 0.]\n",
      " [0. 0. 0. 0. 0. 0. 0.]\n",
      " [0. 0. 0. 0. 0. 0. 0.]]\n",
      "Player A: 0\n",
      "Player B: 0\n",
      "[[' ' ' ' ' ' ' ' ' ' ' ' ' ' ' ' ' ' ' ']\n",
      " ['X' 'X' 'X' 'X' 'X' ' ' ' ' ' ' ' ' ' ']\n",
      " ['O' 'O' 'O' 'O' 'O' ' ' ' ' ' ' ' ' ' ']\n",
      " [' ' ' ' ' ' ' ' ' ' ' ' ' ' ' ' ' ' ' ']\n",
      " [' ' ' ' ' ' ' ' ' ' ' ' ' ' ' ' ' ' ' ']\n",
      " [' ' ' ' ' ' ' ' ' ' ' ' ' ' ' ' ' ' ' ']\n",
      " [' ' ' ' ' ' ' ' ' ' ' ' ' ' ' ' ' ' ' ']\n",
      " [' ' ' ' ' ' ' ' ' ' ' ' ' ' ' ' ' ' ' ']\n",
      " [' ' ' ' ' ' ' ' ' ' ' ' ' ' ' ' ' ' ' ']\n",
      " [' ' ' ' ' ' ' ' ' ' ' ' ' ' ' ' ' ' ' ']]\n"
     ]
    }
   ],
   "source": [
    "\n",
    "for i in range(5):\n",
    "    brd.next_move((1,i))\n",
    "    brd.next_move((2,i))\n",
    "brd.render()"
   ]
  },
  {
   "cell_type": "code",
   "execution_count": 79,
   "metadata": {},
   "outputs": [
    {
     "name": "stdout",
     "output_type": "stream",
     "text": [
      "[[0. 0. 0. 0. 0. 0. 0.]\n",
      " [0. 0. 0. 0. 0. 0. 0.]\n",
      " [0. 0. 1. 2. 0. 0. 0.]\n",
      " [0. 0. 1. 0. 0. 0. 0.]\n",
      " [0. 0. 0. 0. 0. 0. 0.]\n",
      " [0. 0. 0. 0. 0. 0. 0.]\n",
      " [0. 0. 0. 0. 0. 0. 0.]]\n"
     ]
    }
   ],
   "source": [
    "brd.test()"
   ]
  },
  {
   "cell_type": "code",
   "execution_count": 60,
   "metadata": {},
   "outputs": [],
   "source": [
    "a = [1,2,3]"
   ]
  },
  {
   "cell_type": "code",
   "execution_count": 82,
   "metadata": {},
   "outputs": [],
   "source": [
    "a=set([1,1,1])"
   ]
  },
  {
   "cell_type": "code",
   "execution_count": 83,
   "metadata": {},
   "outputs": [
    {
     "data": {
      "text/plain": [
       "True"
      ]
     },
     "execution_count": 83,
     "metadata": {},
     "output_type": "execute_result"
    }
   ],
   "source": [
    "1 in a"
   ]
  },
  {
   "cell_type": "code",
   "execution_count": null,
   "metadata": {},
   "outputs": [],
   "source": []
  }
 ],
 "metadata": {
  "kernelspec": {
   "display_name": "Python 3",
   "language": "python",
   "name": "python3"
  },
  "language_info": {
   "codemirror_mode": {
    "name": "ipython",
    "version": 3
   },
   "file_extension": ".py",
   "mimetype": "text/x-python",
   "name": "python",
   "nbconvert_exporter": "python",
   "pygments_lexer": "ipython3",
   "version": "3.8.3"
  }
 },
 "nbformat": 4,
 "nbformat_minor": 4
}
